{
 "cells": [
  {
   "cell_type": "code",
   "execution_count": 5,
   "metadata": {},
   "outputs": [],
   "source": [
    "import pandas as pd"
   ]
  },
  {
   "cell_type": "code",
   "execution_count": 6,
   "metadata": {},
   "outputs": [],
   "source": [
    "#Adding Column Names from Kaggle Source\n",
    "column_names = ['CRIM', 'ZN', 'INDUS', 'CHAS', 'NOX', 'RM', 'AGE', 'DIS', 'RAD', 'TAX', 'PTRATIO', 'B', 'LSTAT', 'MEDV']"
   ]
  },
  {
   "cell_type": "code",
   "execution_count": 7,
   "metadata": {},
   "outputs": [],
   "source": [
    "# accessing csv data in pandas data frame to perfrom tasks on data easily\n",
    "# adding column names to data frame\n",
    "\n",
    "df = pd.read_csv('data/housing.csv', header=None, delimiter=r\"\\s+\", names=column_names)"
   ]
  },
  {
   "cell_type": "code",
   "execution_count": 8,
   "metadata": {},
   "outputs": [
    {
     "data": {
      "text/html": [
       "<div>\n",
       "<style scoped>\n",
       "    .dataframe tbody tr th:only-of-type {\n",
       "        vertical-align: middle;\n",
       "    }\n",
       "\n",
       "    .dataframe tbody tr th {\n",
       "        vertical-align: top;\n",
       "    }\n",
       "\n",
       "    .dataframe thead th {\n",
       "        text-align: right;\n",
       "    }\n",
       "</style>\n",
       "<table border=\"1\" class=\"dataframe\">\n",
       "  <thead>\n",
       "    <tr style=\"text-align: right;\">\n",
       "      <th></th>\n",
       "      <th>CRIM</th>\n",
       "      <th>ZN</th>\n",
       "      <th>INDUS</th>\n",
       "      <th>CHAS</th>\n",
       "      <th>NOX</th>\n",
       "      <th>RM</th>\n",
       "      <th>AGE</th>\n",
       "      <th>DIS</th>\n",
       "      <th>RAD</th>\n",
       "      <th>TAX</th>\n",
       "      <th>PTRATIO</th>\n",
       "      <th>B</th>\n",
       "      <th>LSTAT</th>\n",
       "      <th>MEDV</th>\n",
       "    </tr>\n",
       "  </thead>\n",
       "  <tbody>\n",
       "    <tr>\n",
       "      <th>501</th>\n",
       "      <td>0.06263</td>\n",
       "      <td>0.0</td>\n",
       "      <td>11.93</td>\n",
       "      <td>0</td>\n",
       "      <td>0.573</td>\n",
       "      <td>6.593</td>\n",
       "      <td>69.1</td>\n",
       "      <td>2.4786</td>\n",
       "      <td>1</td>\n",
       "      <td>273.0</td>\n",
       "      <td>21.0</td>\n",
       "      <td>391.99</td>\n",
       "      <td>9.67</td>\n",
       "      <td>22.4</td>\n",
       "    </tr>\n",
       "    <tr>\n",
       "      <th>502</th>\n",
       "      <td>0.04527</td>\n",
       "      <td>0.0</td>\n",
       "      <td>11.93</td>\n",
       "      <td>0</td>\n",
       "      <td>0.573</td>\n",
       "      <td>6.120</td>\n",
       "      <td>76.7</td>\n",
       "      <td>2.2875</td>\n",
       "      <td>1</td>\n",
       "      <td>273.0</td>\n",
       "      <td>21.0</td>\n",
       "      <td>396.90</td>\n",
       "      <td>9.08</td>\n",
       "      <td>20.6</td>\n",
       "    </tr>\n",
       "    <tr>\n",
       "      <th>503</th>\n",
       "      <td>0.06076</td>\n",
       "      <td>0.0</td>\n",
       "      <td>11.93</td>\n",
       "      <td>0</td>\n",
       "      <td>0.573</td>\n",
       "      <td>6.976</td>\n",
       "      <td>91.0</td>\n",
       "      <td>2.1675</td>\n",
       "      <td>1</td>\n",
       "      <td>273.0</td>\n",
       "      <td>21.0</td>\n",
       "      <td>396.90</td>\n",
       "      <td>5.64</td>\n",
       "      <td>23.9</td>\n",
       "    </tr>\n",
       "    <tr>\n",
       "      <th>504</th>\n",
       "      <td>0.10959</td>\n",
       "      <td>0.0</td>\n",
       "      <td>11.93</td>\n",
       "      <td>0</td>\n",
       "      <td>0.573</td>\n",
       "      <td>6.794</td>\n",
       "      <td>89.3</td>\n",
       "      <td>2.3889</td>\n",
       "      <td>1</td>\n",
       "      <td>273.0</td>\n",
       "      <td>21.0</td>\n",
       "      <td>393.45</td>\n",
       "      <td>6.48</td>\n",
       "      <td>22.0</td>\n",
       "    </tr>\n",
       "    <tr>\n",
       "      <th>505</th>\n",
       "      <td>0.04741</td>\n",
       "      <td>0.0</td>\n",
       "      <td>11.93</td>\n",
       "      <td>0</td>\n",
       "      <td>0.573</td>\n",
       "      <td>6.030</td>\n",
       "      <td>80.8</td>\n",
       "      <td>2.5050</td>\n",
       "      <td>1</td>\n",
       "      <td>273.0</td>\n",
       "      <td>21.0</td>\n",
       "      <td>396.90</td>\n",
       "      <td>7.88</td>\n",
       "      <td>11.9</td>\n",
       "    </tr>\n",
       "  </tbody>\n",
       "</table>\n",
       "</div>"
      ],
      "text/plain": [
       "        CRIM   ZN  INDUS  CHAS    NOX     RM   AGE     DIS  RAD    TAX  \\\n",
       "501  0.06263  0.0  11.93     0  0.573  6.593  69.1  2.4786    1  273.0   \n",
       "502  0.04527  0.0  11.93     0  0.573  6.120  76.7  2.2875    1  273.0   \n",
       "503  0.06076  0.0  11.93     0  0.573  6.976  91.0  2.1675    1  273.0   \n",
       "504  0.10959  0.0  11.93     0  0.573  6.794  89.3  2.3889    1  273.0   \n",
       "505  0.04741  0.0  11.93     0  0.573  6.030  80.8  2.5050    1  273.0   \n",
       "\n",
       "     PTRATIO       B  LSTAT  MEDV  \n",
       "501     21.0  391.99   9.67  22.4  \n",
       "502     21.0  396.90   9.08  20.6  \n",
       "503     21.0  396.90   5.64  23.9  \n",
       "504     21.0  393.45   6.48  22.0  \n",
       "505     21.0  396.90   7.88  11.9  "
      ]
     },
     "execution_count": 8,
     "metadata": {},
     "output_type": "execute_result"
    }
   ],
   "source": [
    "df.tail(5)"
   ]
  },
  {
   "cell_type": "markdown",
   "metadata": {},
   "source": [
    "## Column Meaning from original file"
   ]
  },
  {
   "cell_type": "markdown",
   "metadata": {},
   "source": [
    "### Variables\n",
    "\n",
    "### There are 14 attributes in each case of the dataset. They are\n",
    "\n",
    "    1. CRIM - per capita crime rate by town\n",
    "    2. ZN - proportion of residential land zoned for lots over 25,000 sq.ft.\n",
    "    3. INDUS - proportion of non-retail business acres per town.\n",
    "    4. CHAS - Charles River dummy variable (1 if tract bounds river; 0 otherwise)\n",
    "    5. NOX - nitric oxides concentration (parts per 10 million)\n",
    "    6. RM - average number of rooms per dwelling\n",
    "    7. AGE - proportion of owner-occupied units built prior to 1940\n",
    "    8. DIS - weighted distances to five Boston employment centres \n",
    "    9. RAD - index of accessibility to radial highways\n",
    "    10. TAX - full-value property-tax rate per $10,000\n",
    "    11. PTRATIO - pupil-teacher ratio by town\n",
    "    12. B - 1000(Bk - 0.63)^2 where Bk is the proportion of blacks by town\n",
    "    13. LSTAT - % lower status of the population\n",
    "    14. MEDV - Median value of owner-occupied homes in $1000's"
   ]
  },
  {
   "cell_type": "markdown",
   "metadata": {},
   "source": [
    "# Undestood meaning behind the technical words with help of ChatGPT - GPT4 Model in less time\n",
    "\n",
    "\n",
    "### Converting Column names for meaningful names\n"
   ]
  },
  {
   "cell_type": "markdown",
   "metadata": {},
   "source": [
    "## Boston Housing Dataset New Column Names & Descriptions\n",
    "\n",
    "- **CRIM** -> **Crime_Rate_Per_Capita**\n",
    "- **ZN** -> **Large_Lot_Zone_Proportion**\n",
    "- **INDUS** -> **Non_Retail_Business_Proportion**\n",
    "- **CHAS** -> **Near_Charles_River**\n",
    "- **NOX** -> **Nitric_Oxide_Concentration**\n",
    "- **RM** -> **Average_Rooms_Per_Home**\n",
    "- **AGE** -> **Proportion_Older_Homes**\n",
    "- **DIS** -> **Distance_to_Employment_Centers**\n",
    "- **RAD** -> **Access_to_Radial_Highways**\n",
    "- **TAX** -> **Property_Tax_Rate**\n",
    "- **PTRATIO** -> **Student_Teacher_Ratio**\n",
    "- **B** -> **Proportion_of_Black_Residents**\n",
    "- **LSTAT** -> **Lower_Status_Population_Percentage**\n",
    "- **MEDV** -> **Median_Home_Value_Thousands**\n"
   ]
  },
  {
   "cell_type": "markdown",
   "metadata": {},
   "source": [
    "## Column Descriptions\n",
    "\n",
    "- **Crime_Rate_Per_Capita**: This is the crime rate per person in the area. A higher number means more crime.\n",
    "- **Large_Lot_Zone_Proportion**: This shows what percentage of the land in the area is set aside for larger homes (those with more than 25,000 square feet of land).\n",
    "- **Non_Retail_Business_Proportion**: This indicates the percentage of the town's land used for businesses that aren't retail (like factories or offices).\n",
    "- **Near_Charles_River**: This is a yes/no (1 or 0) indicator showing whether the area is next to the Charles River.\n",
    "- **Nitric_Oxide_Concentration**: This measures the level of air pollution from nitric oxides, which are harmful gases produced by cars and factories.\n",
    "- **Average_Rooms_Per_Home**: This is the average number of rooms in houses in the area.\n",
    "- **Proportion_Older_Homes**: This shows the percentage of houses that were built before 1940.\n",
    "- **Distance_to_Employment_Centers**: This measures how far the area is from five major employment centers in Boston, adjusting for ease of access.\n",
    "- **Access_to_Radial_Highways**: This is a rating of how easy it is to get to highways from the area.\n",
    "- **Property_Tax_Rate**: This shows the property tax rate. Higher values mean higher taxes.\n",
    "- **Student_Teacher_Ratio**: This is the number of students for each teacher in schools in the area. A lower number usually means smaller class sizes.\n",
    "- **Proportion_of_Black_Residents**: This is a formula that measures the proportion of black residents in the area compared to a historical average.\n",
    "- **Lower_Status_Population_Percentage**: This indicates the percentage of residents considered to be of lower socio-economic status.\n",
    "- **Median_Home_Value_Thousands**: This is the median value of houses in the area, reported in thousands of dollars. A higher number indicates more expensive homes.\n"
   ]
  },
  {
   "cell_type": "markdown",
   "metadata": {},
   "source": []
  }
 ],
 "metadata": {
  "kernelspec": {
   "display_name": "mac_gpu",
   "language": "python",
   "name": "mac_gpu"
  },
  "language_info": {
   "codemirror_mode": {
    "name": "ipython",
    "version": 3
   },
   "file_extension": ".py",
   "mimetype": "text/x-python",
   "name": "python",
   "nbconvert_exporter": "python",
   "pygments_lexer": "ipython3",
   "version": "3.10.4"
  }
 },
 "nbformat": 4,
 "nbformat_minor": 2
}
